{
 "cells": [
  {
   "cell_type": "code",
   "execution_count": null,
   "id": "4400f55a-eaf8-41c8-b5ac-496223bbd1c1",
   "metadata": {},
   "outputs": [],
   "source": [
    "import random\n",
    "\n",
    "def guessing_game():\n",
    "    count = 0\n",
    "    print('Guess a number between 1 to 100')\n",
    "    print('Select 0 to end the game')\n",
    "    correct_num = random.randint(1, 100)\n",
    "    print(correct_num)\n",
    "    \n",
    "    while True:\n",
    "        guess = int(input('Enter your guess: '))\n",
    "        count += 1\n",
    "        if guess == 0: \n",
    "            print(f'Game over after {count} tries.')\n",
    "            break\n",
    "        elif guess > correct_num:\n",
    "            print('Too high')\n",
    "        elif guess < correct_num:\n",
    "            print('Too low')\n",
    "        elif guess == correct_num:\n",
    "            print(f'Cheers you won in {count} attempts🥳')\n",
    "            break\n",
    "\n",
    "guessing_game()"
   ]
  },
  {
   "cell_type": "code",
   "execution_count": null,
   "id": "b339d786-f2a4-45bd-873d-60fcb5547dda",
   "metadata": {},
   "outputs": [],
   "source": []
  }
 ],
 "metadata": {
  "kernelspec": {
   "display_name": "Python 3 (ipykernel)",
   "language": "python",
   "name": "python3"
  },
  "language_info": {
   "codemirror_mode": {
    "name": "ipython",
    "version": 3
   },
   "file_extension": ".py",
   "mimetype": "text/x-python",
   "name": "python",
   "nbconvert_exporter": "python",
   "pygments_lexer": "ipython3",
   "version": "3.12.4"
  }
 },
 "nbformat": 4,
 "nbformat_minor": 5
}
