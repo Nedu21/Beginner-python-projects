{
 "cells": [
  {
   "cell_type": "code",
   "execution_count": null,
   "id": "afd525c6-acc8-4732-be14-d92f6faee9e2",
   "metadata": {},
   "outputs": [],
   "source": [
    "!pip install requests"
   ]
  },
  {
   "cell_type": "code",
   "execution_count": null,
   "id": "4c05c321-cad5-4fdd-8339-9192ecadd1fd",
   "metadata": {},
   "outputs": [],
   "source": [
    "import requests\n",
    "import json\n",
    "import pandas as pd\n",
    "\n",
    "def get_weather(city):\n",
    "    \"\"\"\n",
    "    Fetches the current weather details for a specified city.\n",
    "\n",
    "    This function first retrieves the geographic coordinates (latitude and longitude) \n",
    "    of the city using the OpenWeatherMap geolocation API. It then uses these coordinates \n",
    "    to request the current weather data, including the temperature and weather description, \n",
    "    from the OpenWeatherMap weather API. The function prints the temperature in Celsius \n",
    "    and a brief description of the weather (e.g., clear sky, light rain). If an error occurs, \n",
    "    such as an invalid city name, an appropriate error message is displayed.\n",
    "\n",
    "    Parameters:\n",
    "    city (str): The name of the city for which the weather information is to be retrieved.\n",
    "\n",
    "    Returns:\n",
    "    None (prints weather information to the console).\n",
    "    \"\"\"\n",
    "    \n",
    "    base_url = 'http://api.openweathermap.org/geo/1.0/direct'\n",
    "    api_key = 'f528abb3809282d2328400d9e618b04a'\n",
    "    payload = {'q': city, 'appid': api_key, 'limit': 2}\n",
    "\n",
    "    r = requests.get(base_url, params = payload)\n",
    "\n",
    "    if r.status_code == 200:\n",
    "        data = json.loads(r.text)\n",
    "        df = pd.DataFrame(data)\n",
    "        lat = df.loc[0, 'lat']\n",
    "        lon = df.loc[0, 'lon']\n",
    "\n",
    "        base_url_2 = 'https://api.openweathermap.org/data/2.5/weather'\n",
    "        api_key = 'f528abb3809282d2328400d9e618b04a'\n",
    "        payload_2 = {'lat': lat, 'lon': lon, 'appid': api_key,}\n",
    "\n",
    "        loc_req = requests.get(base_url_2, params = payload_2)\n",
    "        if loc_req.status_code == 200:\n",
    "            loc_data = json.loads(loc_req.text)\n",
    "            temperature = loc_data['main']['temp']\n",
    "            description = loc_data['weather'][0]['description']\n",
    "            print(f\"Temperature in {city}: {temperature}°C\")\n",
    "            print(f\"Weather Description: {description}\")\n",
    "        else:\n",
    "            print('City not found. Please try again.') \n",
    "    \n",
    "    else:\n",
    "        print('Geolocation not found!!. Please try again.')      \n",
    "    \n",
    "get_weather(\"Enugu\")"
   ]
  }
 ],
 "metadata": {
  "kernelspec": {
   "display_name": "base",
   "language": "python",
   "name": "python3"
  },
  "language_info": {
   "codemirror_mode": {
    "name": "ipython",
    "version": 3
   },
   "file_extension": ".py",
   "mimetype": "text/x-python",
   "name": "python",
   "nbconvert_exporter": "python",
   "pygments_lexer": "ipython3",
   "version": "3.12.4"
  }
 },
 "nbformat": 4,
 "nbformat_minor": 5
}
