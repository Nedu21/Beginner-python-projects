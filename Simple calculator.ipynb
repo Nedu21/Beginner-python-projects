{
 "cells": [
  {
   "cell_type": "code",
   "execution_count": 1,
   "id": "68da65e7-4db8-4a78-8e8f-f7b79a2a7553",
   "metadata": {},
   "outputs": [],
   "source": [
    "def add_num(a, b):\n",
    "    return a + b\n",
    "\n",
    "def subtract_num(a, b):\n",
    "    return a - b\n",
    "\n",
    "def multiply_num(a, b):\n",
    "    return a * b\n",
    "\n",
    "def divide_num(a, b):\n",
    "    try:\n",
    "        return a / b\n",
    "    except ZeroDivisionError:\n",
    "        print('Error: cannot divide by zero')"
   ]
  },
  {
   "cell_type": "code",
   "execution_count": null,
   "id": "1aa8bd0a-38ce-4e7b-8c05-e50974e109ee",
   "metadata": {},
   "outputs": [],
   "source": [
    "def calculator():\n",
    "    print('Choose an operation: +, -, *, or /')\n",
    "    operation = input('Enter operation: ')\n",
    "    a = float(input('Enter first number: '))\n",
    "    b = float(input('Enter second number: '))\n",
    "\n",
    "    if operation == '+':\n",
    "        print('Result of addition:', add_num(a,b))\n",
    "    elif operation == '-':\n",
    "        print('Result of subtraction:', subtract_num(a,b))\n",
    "    elif operation == '*':\n",
    "        print('Result of multiplication:', multiply_num(a,b))\n",
    "    elif operation == '/':\n",
    "        print('Result of division:', divide_num(a,b))\n",
    "    else:\n",
    "        print(\"Invalid operation\")\n",
    "\n",
    "calculator()"
   ]
  },
  {
   "cell_type": "code",
   "execution_count": null,
   "id": "0b04547b-4261-4f76-800d-90994bbc5c95",
   "metadata": {},
   "outputs": [],
   "source": []
  }
 ],
 "metadata": {
  "kernelspec": {
   "display_name": "Python 3 (ipykernel)",
   "language": "python",
   "name": "python3"
  },
  "language_info": {
   "codemirror_mode": {
    "name": "ipython",
    "version": 3
   },
   "file_extension": ".py",
   "mimetype": "text/x-python",
   "name": "python",
   "nbconvert_exporter": "python",
   "pygments_lexer": "ipython3",
   "version": "3.12.4"
  }
 },
 "nbformat": 4,
 "nbformat_minor": 5
}
